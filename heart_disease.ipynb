{
  "nbformat": 4,
  "nbformat_minor": 0,
  "metadata": {
    "colab": {
      "provenance": [],
      "authorship_tag": "ABX9TyMa3ojrKXDHg6mZ3cc23oBw",
      "include_colab_link": true
    },
    "kernelspec": {
      "name": "python3",
      "display_name": "Python 3"
    },
    "language_info": {
      "name": "python"
    }
  },
  "cells": [
    {
      "cell_type": "markdown",
      "metadata": {
        "id": "view-in-github",
        "colab_type": "text"
      },
      "source": [
        "<a href=\"https://colab.research.google.com/github/mahmoodhamdi/basketball_pointsCounter_app/blob/main/heart_disease.ipynb\" target=\"_parent\"><img src=\"https://colab.research.google.com/assets/colab-badge.svg\" alt=\"Open In Colab\"/></a>"
      ]
    },
    {
      "cell_type": "code",
      "execution_count": 1,
      "metadata": {
        "id": "tchS9ysqONoV"
      },
      "outputs": [],
      "source": [
        "import pandas as pd\n",
        "from sklearn.model_selection import train_test_split, GridSearchCV\n",
        "from sklearn.preprocessing import StandardScaler\n",
        "from sklearn.ensemble import RandomForestClassifier\n",
        "from sklearn.metrics import accuracy_score, classification_report"
      ]
    },
    {
      "cell_type": "code",
      "source": [
        "# Section 1: Read dataset and preprocess\n",
        "\n",
        "# Read dataset from a CSV file\n",
        "data = pd.read_csv('heart_disease_health_indicators_BRFSS2015.csv')\n",
        "\n",
        "# Drop columns with more than 30% missing values\n",
        "threshold = 0.3\n",
        "data = data.dropna(thresh=len(data) * (1 - threshold), axis=1)\n",
        "\n",
        "# One-hot encode categorical variables\n",
        "data = pd.get_dummies(data, columns=['Sex', 'Education'], drop_first=True)\n",
        "\n",
        "# Split data into features (X) and target variable (y)\n",
        "X = data.drop(columns=['HeartDiseaseorAttack'])\n",
        "y = data['HeartDiseaseorAttack']\n",
        "\n",
        "# Split data into training and testing sets\n",
        "X_train, X_test, y_train, y_test = train_test_split(X, y, test_size=0.2, random_state=42)\n"
      ],
      "metadata": {
        "id": "2-bWmP34OVXD"
      },
      "execution_count": 3,
      "outputs": []
    },
    {
      "cell_type": "code",
      "source": [
        "# Section 2: Standardize features using StandardScaler\n",
        "\n",
        "# Initialize StandardScaler\n",
        "scaler = StandardScaler()\n",
        "\n",
        "# Fit and transform the training data\n",
        "X_train = scaler.fit_transform(X_train)\n",
        "\n",
        "# Transform the test data using the same scaler\n",
        "X_test = scaler.transform(X_test)"
      ],
      "metadata": {
        "id": "Xd7lwBrIOV-4"
      },
      "execution_count": 4,
      "outputs": []
    },
    {
      "cell_type": "code",
      "source": [
        "# Initialize the Random Forest Classifier\n",
        "clf = RandomForestClassifier(n_estimators=100, random_state=42)\n",
        "\n",
        "# Train the model\n",
        "clf.fit(X_train, y_train)\n",
        "\n",
        "# Make predictions on the test set\n",
        "y_pred = clf.predict(X_test)\n",
        "\n"
      ],
      "metadata": {
        "id": "yiAdcc2sOWDU"
      },
      "execution_count": 14,
      "outputs": []
    },
    {
      "cell_type": "code",
      "source": [
        "# Evaluate the model\n",
        "accuracy = accuracy_score(y_test, y_pred)\n",
        "print(f'Accuracy: {accuracy:.2f}')\n",
        "\n",
        "# Display classification report\n",
        "print(classification_report(y_test, y_pred))\n",
        "\n",
        "# Train score\n",
        "train_score = clf.score(X_train, y_train)\n",
        "print(f'Training Accuracy: {round(train_score*100,2)}')\n"
      ],
      "metadata": {
        "colab": {
          "base_uri": "https://localhost:8080/"
        },
        "id": "K40kuvFgVsJo",
        "outputId": "e03aa372-1587-4136-d6dc-065c0c35ffa6"
      },
      "execution_count": 13,
      "outputs": [
        {
          "output_type": "stream",
          "name": "stdout",
          "text": [
            "Accuracy: 0.90\n",
            "              precision    recall  f1-score   support\n",
            "\n",
            "         0.0       0.92      0.98      0.95     45968\n",
            "         1.0       0.45      0.12      0.19      4768\n",
            "\n",
            "    accuracy                           0.90     50736\n",
            "   macro avg       0.68      0.55      0.57     50736\n",
            "weighted avg       0.87      0.90      0.88     50736\n",
            "\n",
            "Training Accuracy: 99.58\n"
          ]
        }
      ]
    }
  ]
}